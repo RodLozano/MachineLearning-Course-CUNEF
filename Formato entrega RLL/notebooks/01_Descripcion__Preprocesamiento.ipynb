{
 "cells": [
  {
   "cell_type": "markdown",
   "metadata": {},
   "source": [
    "# Descripción del problema\n"
   ]
  },
  {
   "cell_type": "markdown",
   "metadata": {},
   "source": [
    "Se desea realizar un experimento para comparar modelos con los que detectar el fraude bancario. El conjunto de datos fue creado por Sérgio Jesus, José Pombal, Duarte Alves, André F. Cruz, Pedro Saleiro y Pedro Bizarro en nombre de Feedzai. \n",
    "\n",
    "Se procederá al tratamiento de los datos, modelado general, optimizacion de modelos con mejores resultados de origen y estudio de la explicabilidad de dicho modelo."
   ]
  },
  {
   "cell_type": "markdown",
   "metadata": {},
   "source": [
    "# Descripción del dataset"
   ]
  },
  {
   "cell_type": "markdown",
   "metadata": {},
   "source": [
    "Cada instancia en la serie de conjuntos de datos representa una solicitud sintética de apertura de cuenta bancaria con ingeniería de características en formato tabular. Estas fueron generadas utilizando un CTGAN entrenado en un  conjunto de datos anonimizado del mundo real sobre fraudes en la apertura de cuentas bancarias. No existen diferentes tipos de instancias."
   ]
  },
  {
   "cell_type": "markdown",
   "metadata": {},
   "source": [
    "\n",
    "Cada instancia es una solicitud de cuenta bancaria sintética con características diseñadas que incluyen los siguientes campos:\n",
    "1. **income (numeric)**: Annual income of the applicant (in decile form). Ranges between [0.1, 0.9].\n",
    "1. **name_email_similarity (numeric)**: Metric of similarity between email and applicant’s name. Higher values represent higher similarity. Ranges between [0, 1].\n",
    "1. **prev_address_months_count (numeric)**: Number of months in previous registered address of the applicant, i.e. the applicant’s previous residence, if applicable. Ranges between [−1, 380] months (-1 is a missing value).\n",
    "1. **current_address_months_count (numeric)**: Months in currently registered address of the applicant. Ranges between [−1, 429] months (-1 is a missing value).\n",
    "1. **customer_age (numeric)**: Applicant’s age in years, rounded to the decade. Ranges between [10, 90] years.\n",
    "1. **days_since_request (numeric)**: Number of days passed since application was done. Ranges between [0, 79] days.\n",
    "1. **intended_balcon_amount (numeric)**: Initial transferred amount for application. Ranges between [−16, 114] (negatives are missing values).\n",
    "1. **payment_type (categorical)**: Credit payment plan type. 5 possible (annonymized) values.\n",
    "1. **zip_count_4w (numeric)**: Number of applications within same zip code in last 4 weeks. Ranges between [1, 6830].\n",
    "1. **velocity_6h (numeric)**: Velocity of total applications made in last 6 hours i.e., average number of applications per hour in the last 6 hours. Ranges between [−175, 16818].\n",
    "1. **velocity_24h (numeric)**: Velocity of total applications made in last 24 hours i.e., average number of applications per hour in the last 24 hours. Ranges between [1297, 9586]\n",
    "1. **velocity_4w (numeric)**: Velocity of total applications made in last 4 weeks, i.e., average number of applications per hour in the last 4 weeks. Ranges between [2825, 7020].\n",
    "1. **bank_branch_count_8w (numeric)**: Number of total applications in the selected bank branch in last 8 weeks. Ranges between [0, 2404].\n",
    "1. **date_of_birth_distinct_emails_4w (numeric)**: Number of emails for applicants with same date of birth in last 4 weeks. Ranges between [0, 39].\n",
    "1. **employment_status (categorical)**: Employment status of the applicant. 7 possible (annonymized) values.\n",
    "1. **credit_risk_score (numeric)**: Internal score of application risk. Ranges between [−191, 389].\n",
    "1. **email_is_free (binary)**: Domain of application email (either free or paid).\n",
    "1. **housing_status (categorical)**: Current residential status for applicant. 7 possible (annonymized) values.\n",
    "1. **phone_home_valid (binary)**: Validity of provided home phone.\n",
    "1. **phone_mobile_valid (binary)**: Validity of provided mobile phone.\n",
    "1. **bank_months_count (numeric)**: How old is previous account (if held) in months.Ranges between [−1, 32] months (-1 is a missing value).\n",
    "1. **has_list_num_vars_cards (binary)**: If applicant has list_num_vars cards from the same banking company.\n",
    "1. **proposed_credit_limit (numeric)**: Applicant’s proposed credit limit. Ranges between [200, 2000].\n",
    "1. **foreign_request (binary)**: If origin country of request is different from bank’s country.\n",
    "1. **source (categorical)**: Online source of application. Either browser (INTERNET) or app (TELEAPP).\n",
    "1. **session_length_in_minutes (numeric)**: Length of user session in banking website in minutes. Ranges between [−1, 107] minutes (-1 is a missing value).\n",
    "1. **device_os (categorical)**: Operative system of device that made request. Possible values are: Windows, macOS, Linux, X11, or list_num_vars.\n",
    "1. **keep_alive_session (binary)**: User option on session logout.\n",
    "1. **device_distinct_emails (numeric)**: Number of distinct emails in banking website from the used device in last 8 weeks. Ranges between [−1, 2] emails (-1 is a missing value).\n",
    "1. **device_fraud_count (numeric)**: Number of fraudulent applications with used device. Ranges between [0, 1].\n",
    "1. **month (numeric)**: Month where the application was made. Ranges between [0, 7].\n",
    "1. **fraud_bool (binary)**: If the application is fraudulent or not\n"
   ]
  },
  {
   "cell_type": "markdown",
   "metadata": {},
   "source": [
    "\n",
    "La estructura del proyecto es:\n",
    "\n",
    "1. \tDiccionario de datos, planteamiento del problema Preprocesamiento (notebook 1)\n",
    "2.\tAnálisis exploratorio de datos EDA (notebook 2)\n",
    "3.\tTratamiento de los datos, Selección e ingeniería de variables (notebook 3)\n",
    "4.\tEstructuración del modelado y modelo base y selección de métrica (notebook 4)\n",
    "5.\tModelado inicial (notebook 5 - 13)\n",
    "6.\tOptimización de hiperparámetros de los seleccionados (usando val)\n",
    "7.\tComparación de modelos (usando test) Explicabilidad y Conclusiones (notebook 14)\n"
   ]
  },
  {
   "cell_type": "markdown",
   "metadata": {},
   "source": [
    "## Importo librerias\n"
   ]
  },
  {
   "cell_type": "code",
   "execution_count": 1,
   "metadata": {},
   "outputs": [],
   "source": [
    "import pandas as pd\n",
    "import numpy as np\n",
    "import seaborn as sns\n",
    "from matplotlib import pyplot as plt\n",
    "import plotly.express as px\n",
    "\n",
    "pd.set_option('display.max_columns', 500)\n",
    "pd.set_option('display.max_rows', 5000)"
   ]
  },
  {
   "cell_type": "code",
   "execution_count": 2,
   "metadata": {},
   "outputs": [],
   "source": [
    "def dame_variables_categoricas(dataset=None):\n",
    "    '''\n",
    "    ----------------------------------------------------------------------------------------------------------\n",
    "    Función dame_variables_categoricas:\n",
    "    ----------------------------------------------------------------------------------------------------------\n",
    "        -Descripción: Función que recibe un dataset y devuelve una lista con los nombres de las \n",
    "        variables categóricas\n",
    "        -Inputs: \n",
    "            -- dataset: Pandas dataframe que contiene los datos\n",
    "        -Return:\n",
    "            -- lista_variables_categoricas: lista con los nombres de las variables categóricas del\n",
    "            dataset de entrada con menos de 100 valores diferentes\n",
    "            -- 1: la ejecución es incorrecta\n",
    "    '''\n",
    "    if dataset is None:\n",
    "        print(u'\\nFaltan argumentos por pasar a la función')\n",
    "        return 1\n",
    "    lista_variables_categoricas = []\n",
    "    list_num_vars = []\n",
    "    for i in dataset.columns:\n",
    "        if (dataset[i].dtype!=float) & (dataset[i].dtype!=int):\n",
    "            unicos = int(len(np.unique(dataset[i].dropna(axis=0, how='all'))))\n",
    "            if unicos < 100:\n",
    "                lista_variables_categoricas.append(i)\n",
    "            else:\n",
    "                list_num_vars.append(i)\n",
    "\n",
    "    return lista_variables_categoricas, list_num_vars"
   ]
  },
  {
   "cell_type": "markdown",
   "metadata": {},
   "source": [
    "## Leo los datos"
   ]
  },
  {
   "cell_type": "code",
   "execution_count": 3,
   "metadata": {},
   "outputs": [],
   "source": [
    "path_folder = \"../data/\"\n",
    "pd_BAF = pd.read_csv(path_folder +\"Base.csv\")"
   ]
  },
  {
   "cell_type": "markdown",
   "metadata": {},
   "source": [
    "Analisis generales de la tabla\n"
   ]
  },
  {
   "cell_type": "markdown",
   "metadata": {},
   "source": [
    "Dimensión\n",
    "\n"
   ]
  },
  {
   "cell_type": "code",
   "execution_count": 4,
   "metadata": {},
   "outputs": [
    {
     "name": "stdout",
     "output_type": "stream",
     "text": [
      "(1000000, 32) (1000000, 32)\n"
     ]
    }
   ],
   "source": [
    "print(pd_BAF.shape, pd_BAF.drop_duplicates().shape)\n"
   ]
  },
  {
   "cell_type": "markdown",
   "metadata": {},
   "source": [
    "Tipos de datos"
   ]
  },
  {
   "cell_type": "code",
   "execution_count": 5,
   "metadata": {},
   "outputs": [
    {
     "data": {
      "text/plain": [
       "{'fraud_bool': dtype('int64'),\n",
       " 'income': dtype('float64'),\n",
       " 'name_email_similarity': dtype('float64'),\n",
       " 'prev_address_months_count': dtype('int64'),\n",
       " 'current_address_months_count': dtype('int64'),\n",
       " 'customer_age': dtype('int64'),\n",
       " 'days_since_request': dtype('float64'),\n",
       " 'intended_balcon_amount': dtype('float64'),\n",
       " 'payment_type': dtype('O'),\n",
       " 'zip_count_4w': dtype('int64'),\n",
       " 'velocity_6h': dtype('float64'),\n",
       " 'velocity_24h': dtype('float64'),\n",
       " 'velocity_4w': dtype('float64'),\n",
       " 'bank_branch_count_8w': dtype('int64'),\n",
       " 'date_of_birth_distinct_emails_4w': dtype('int64'),\n",
       " 'employment_status': dtype('O'),\n",
       " 'credit_risk_score': dtype('int64'),\n",
       " 'email_is_free': dtype('int64'),\n",
       " 'housing_status': dtype('O'),\n",
       " 'phone_home_valid': dtype('int64'),\n",
       " 'phone_mobile_valid': dtype('int64'),\n",
       " 'bank_months_count': dtype('int64'),\n",
       " 'has_other_cards': dtype('int64'),\n",
       " 'proposed_credit_limit': dtype('float64'),\n",
       " 'foreign_request': dtype('int64'),\n",
       " 'source': dtype('O'),\n",
       " 'session_length_in_minutes': dtype('float64'),\n",
       " 'device_os': dtype('O'),\n",
       " 'keep_alive_session': dtype('int64'),\n",
       " 'device_distinct_emails_8w': dtype('int64'),\n",
       " 'device_fraud_count': dtype('int64'),\n",
       " 'month': dtype('int64')}"
      ]
     },
     "execution_count": 5,
     "metadata": {},
     "output_type": "execute_result"
    }
   ],
   "source": [
    "pd_BAF.dtypes.to_dict()"
   ]
  },
  {
   "cell_type": "markdown",
   "metadata": {},
   "source": [
    "## Exploración de la variable objetivo y tratamiento inicial"
   ]
  },
  {
   "cell_type": "code",
   "execution_count": 6,
   "metadata": {},
   "outputs": [
    {
     "data": {
      "text/html": [
       "<div>\n",
       "<style scoped>\n",
       "    .dataframe tbody tr th:only-of-type {\n",
       "        vertical-align: middle;\n",
       "    }\n",
       "\n",
       "    .dataframe tbody tr th {\n",
       "        vertical-align: top;\n",
       "    }\n",
       "\n",
       "    .dataframe thead th {\n",
       "        text-align: right;\n",
       "    }\n",
       "</style>\n",
       "<table border=\"1\" class=\"dataframe\">\n",
       "  <thead>\n",
       "    <tr style=\"text-align: right;\">\n",
       "      <th></th>\n",
       "      <th>fraud_bool</th>\n",
       "      <th>percent</th>\n",
       "      <th>count</th>\n",
       "    </tr>\n",
       "  </thead>\n",
       "  <tbody>\n",
       "    <tr>\n",
       "      <th>0</th>\n",
       "      <td>0</td>\n",
       "      <td>98.9</td>\n",
       "      <td>988971</td>\n",
       "    </tr>\n",
       "    <tr>\n",
       "      <th>1</th>\n",
       "      <td>1</td>\n",
       "      <td>1.1</td>\n",
       "      <td>11029</td>\n",
       "    </tr>\n",
       "  </tbody>\n",
       "</table>\n",
       "</div>"
      ],
      "text/plain": [
       "   fraud_bool  percent   count\n",
       "0           0     98.9  988971\n",
       "1           1      1.1   11029"
      ]
     },
     "execution_count": 6,
     "metadata": {},
     "output_type": "execute_result"
    }
   ],
   "source": [
    "pd_plot_fraud_bool = round(pd_BAF['fraud_bool']\\\n",
    "        .value_counts(normalize=True)\\\n",
    "        .mul(100).rename('percent').reset_index(), 2)\n",
    "\n",
    "pd_plot_fraud_bool_conteo = pd_BAF['fraud_bool'].value_counts().reset_index()\n",
    "pd_plot_fraud_bool_pc = pd.merge(pd_plot_fraud_bool, pd_plot_fraud_bool_conteo, how='inner')\n",
    "pd_plot_fraud_bool_pc\n"
   ]
  },
  {
   "cell_type": "code",
   "execution_count": 7,
   "metadata": {},
   "outputs": [
    {
     "data": {
      "application/vnd.plotly.v1+json": {
       "config": {
        "plotlyServerURL": "https://plot.ly"
       },
       "data": [
        {
         "alignmentgroup": "True",
         "bingroup": "x",
         "histfunc": "sum",
         "hovertemplate": "variable=percent<br>fraud_bool=%{x}<br>sum of value=%{y}<extra></extra>",
         "legendgroup": "percent",
         "marker": {
          "color": "#636efa",
          "pattern": {
           "shape": ""
          }
         },
         "name": "percent",
         "offsetgroup": "percent",
         "orientation": "v",
         "showlegend": true,
         "type": "histogram",
         "x": [
          0,
          1
         ],
         "xaxis": "x",
         "y": [
          98.9,
          1.1
         ],
         "yaxis": "y"
        }
       ],
       "layout": {
        "barmode": "relative",
        "legend": {
         "title": {
          "text": "variable"
         },
         "tracegroupgap": 0
        },
        "margin": {
         "t": 60
        },
        "template": {
         "data": {
          "bar": [
           {
            "error_x": {
             "color": "#2a3f5f"
            },
            "error_y": {
             "color": "#2a3f5f"
            },
            "marker": {
             "line": {
              "color": "#E5ECF6",
              "width": 0.5
             },
             "pattern": {
              "fillmode": "overlay",
              "size": 10,
              "solidity": 0.2
             }
            },
            "type": "bar"
           }
          ],
          "barpolar": [
           {
            "marker": {
             "line": {
              "color": "#E5ECF6",
              "width": 0.5
             },
             "pattern": {
              "fillmode": "overlay",
              "size": 10,
              "solidity": 0.2
             }
            },
            "type": "barpolar"
           }
          ],
          "carpet": [
           {
            "aaxis": {
             "endlinecolor": "#2a3f5f",
             "gridcolor": "white",
             "linecolor": "white",
             "minorgridcolor": "white",
             "startlinecolor": "#2a3f5f"
            },
            "baxis": {
             "endlinecolor": "#2a3f5f",
             "gridcolor": "white",
             "linecolor": "white",
             "minorgridcolor": "white",
             "startlinecolor": "#2a3f5f"
            },
            "type": "carpet"
           }
          ],
          "choropleth": [
           {
            "colorbar": {
             "outlinewidth": 0,
             "ticks": ""
            },
            "type": "choropleth"
           }
          ],
          "contour": [
           {
            "colorbar": {
             "outlinewidth": 0,
             "ticks": ""
            },
            "colorscale": [
             [
              0,
              "#0d0887"
             ],
             [
              0.1111111111111111,
              "#46039f"
             ],
             [
              0.2222222222222222,
              "#7201a8"
             ],
             [
              0.3333333333333333,
              "#9c179e"
             ],
             [
              0.4444444444444444,
              "#bd3786"
             ],
             [
              0.5555555555555556,
              "#d8576b"
             ],
             [
              0.6666666666666666,
              "#ed7953"
             ],
             [
              0.7777777777777778,
              "#fb9f3a"
             ],
             [
              0.8888888888888888,
              "#fdca26"
             ],
             [
              1,
              "#f0f921"
             ]
            ],
            "type": "contour"
           }
          ],
          "contourcarpet": [
           {
            "colorbar": {
             "outlinewidth": 0,
             "ticks": ""
            },
            "type": "contourcarpet"
           }
          ],
          "heatmap": [
           {
            "colorbar": {
             "outlinewidth": 0,
             "ticks": ""
            },
            "colorscale": [
             [
              0,
              "#0d0887"
             ],
             [
              0.1111111111111111,
              "#46039f"
             ],
             [
              0.2222222222222222,
              "#7201a8"
             ],
             [
              0.3333333333333333,
              "#9c179e"
             ],
             [
              0.4444444444444444,
              "#bd3786"
             ],
             [
              0.5555555555555556,
              "#d8576b"
             ],
             [
              0.6666666666666666,
              "#ed7953"
             ],
             [
              0.7777777777777778,
              "#fb9f3a"
             ],
             [
              0.8888888888888888,
              "#fdca26"
             ],
             [
              1,
              "#f0f921"
             ]
            ],
            "type": "heatmap"
           }
          ],
          "heatmapgl": [
           {
            "colorbar": {
             "outlinewidth": 0,
             "ticks": ""
            },
            "colorscale": [
             [
              0,
              "#0d0887"
             ],
             [
              0.1111111111111111,
              "#46039f"
             ],
             [
              0.2222222222222222,
              "#7201a8"
             ],
             [
              0.3333333333333333,
              "#9c179e"
             ],
             [
              0.4444444444444444,
              "#bd3786"
             ],
             [
              0.5555555555555556,
              "#d8576b"
             ],
             [
              0.6666666666666666,
              "#ed7953"
             ],
             [
              0.7777777777777778,
              "#fb9f3a"
             ],
             [
              0.8888888888888888,
              "#fdca26"
             ],
             [
              1,
              "#f0f921"
             ]
            ],
            "type": "heatmapgl"
           }
          ],
          "histogram": [
           {
            "marker": {
             "pattern": {
              "fillmode": "overlay",
              "size": 10,
              "solidity": 0.2
             }
            },
            "type": "histogram"
           }
          ],
          "histogram2d": [
           {
            "colorbar": {
             "outlinewidth": 0,
             "ticks": ""
            },
            "colorscale": [
             [
              0,
              "#0d0887"
             ],
             [
              0.1111111111111111,
              "#46039f"
             ],
             [
              0.2222222222222222,
              "#7201a8"
             ],
             [
              0.3333333333333333,
              "#9c179e"
             ],
             [
              0.4444444444444444,
              "#bd3786"
             ],
             [
              0.5555555555555556,
              "#d8576b"
             ],
             [
              0.6666666666666666,
              "#ed7953"
             ],
             [
              0.7777777777777778,
              "#fb9f3a"
             ],
             [
              0.8888888888888888,
              "#fdca26"
             ],
             [
              1,
              "#f0f921"
             ]
            ],
            "type": "histogram2d"
           }
          ],
          "histogram2dcontour": [
           {
            "colorbar": {
             "outlinewidth": 0,
             "ticks": ""
            },
            "colorscale": [
             [
              0,
              "#0d0887"
             ],
             [
              0.1111111111111111,
              "#46039f"
             ],
             [
              0.2222222222222222,
              "#7201a8"
             ],
             [
              0.3333333333333333,
              "#9c179e"
             ],
             [
              0.4444444444444444,
              "#bd3786"
             ],
             [
              0.5555555555555556,
              "#d8576b"
             ],
             [
              0.6666666666666666,
              "#ed7953"
             ],
             [
              0.7777777777777778,
              "#fb9f3a"
             ],
             [
              0.8888888888888888,
              "#fdca26"
             ],
             [
              1,
              "#f0f921"
             ]
            ],
            "type": "histogram2dcontour"
           }
          ],
          "mesh3d": [
           {
            "colorbar": {
             "outlinewidth": 0,
             "ticks": ""
            },
            "type": "mesh3d"
           }
          ],
          "parcoords": [
           {
            "line": {
             "colorbar": {
              "outlinewidth": 0,
              "ticks": ""
             }
            },
            "type": "parcoords"
           }
          ],
          "pie": [
           {
            "automargin": true,
            "type": "pie"
           }
          ],
          "scatter": [
           {
            "fillpattern": {
             "fillmode": "overlay",
             "size": 10,
             "solidity": 0.2
            },
            "type": "scatter"
           }
          ],
          "scatter3d": [
           {
            "line": {
             "colorbar": {
              "outlinewidth": 0,
              "ticks": ""
             }
            },
            "marker": {
             "colorbar": {
              "outlinewidth": 0,
              "ticks": ""
             }
            },
            "type": "scatter3d"
           }
          ],
          "scattercarpet": [
           {
            "marker": {
             "colorbar": {
              "outlinewidth": 0,
              "ticks": ""
             }
            },
            "type": "scattercarpet"
           }
          ],
          "scattergeo": [
           {
            "marker": {
             "colorbar": {
              "outlinewidth": 0,
              "ticks": ""
             }
            },
            "type": "scattergeo"
           }
          ],
          "scattergl": [
           {
            "marker": {
             "colorbar": {
              "outlinewidth": 0,
              "ticks": ""
             }
            },
            "type": "scattergl"
           }
          ],
          "scattermapbox": [
           {
            "marker": {
             "colorbar": {
              "outlinewidth": 0,
              "ticks": ""
             }
            },
            "type": "scattermapbox"
           }
          ],
          "scatterpolar": [
           {
            "marker": {
             "colorbar": {
              "outlinewidth": 0,
              "ticks": ""
             }
            },
            "type": "scatterpolar"
           }
          ],
          "scatterpolargl": [
           {
            "marker": {
             "colorbar": {
              "outlinewidth": 0,
              "ticks": ""
             }
            },
            "type": "scatterpolargl"
           }
          ],
          "scatterternary": [
           {
            "marker": {
             "colorbar": {
              "outlinewidth": 0,
              "ticks": ""
             }
            },
            "type": "scatterternary"
           }
          ],
          "surface": [
           {
            "colorbar": {
             "outlinewidth": 0,
             "ticks": ""
            },
            "colorscale": [
             [
              0,
              "#0d0887"
             ],
             [
              0.1111111111111111,
              "#46039f"
             ],
             [
              0.2222222222222222,
              "#7201a8"
             ],
             [
              0.3333333333333333,
              "#9c179e"
             ],
             [
              0.4444444444444444,
              "#bd3786"
             ],
             [
              0.5555555555555556,
              "#d8576b"
             ],
             [
              0.6666666666666666,
              "#ed7953"
             ],
             [
              0.7777777777777778,
              "#fb9f3a"
             ],
             [
              0.8888888888888888,
              "#fdca26"
             ],
             [
              1,
              "#f0f921"
             ]
            ],
            "type": "surface"
           }
          ],
          "table": [
           {
            "cells": {
             "fill": {
              "color": "#EBF0F8"
             },
             "line": {
              "color": "white"
             }
            },
            "header": {
             "fill": {
              "color": "#C8D4E3"
             },
             "line": {
              "color": "white"
             }
            },
            "type": "table"
           }
          ]
         },
         "layout": {
          "annotationdefaults": {
           "arrowcolor": "#2a3f5f",
           "arrowhead": 0,
           "arrowwidth": 1
          },
          "autotypenumbers": "strict",
          "coloraxis": {
           "colorbar": {
            "outlinewidth": 0,
            "ticks": ""
           }
          },
          "colorscale": {
           "diverging": [
            [
             0,
             "#8e0152"
            ],
            [
             0.1,
             "#c51b7d"
            ],
            [
             0.2,
             "#de77ae"
            ],
            [
             0.3,
             "#f1b6da"
            ],
            [
             0.4,
             "#fde0ef"
            ],
            [
             0.5,
             "#f7f7f7"
            ],
            [
             0.6,
             "#e6f5d0"
            ],
            [
             0.7,
             "#b8e186"
            ],
            [
             0.8,
             "#7fbc41"
            ],
            [
             0.9,
             "#4d9221"
            ],
            [
             1,
             "#276419"
            ]
           ],
           "sequential": [
            [
             0,
             "#0d0887"
            ],
            [
             0.1111111111111111,
             "#46039f"
            ],
            [
             0.2222222222222222,
             "#7201a8"
            ],
            [
             0.3333333333333333,
             "#9c179e"
            ],
            [
             0.4444444444444444,
             "#bd3786"
            ],
            [
             0.5555555555555556,
             "#d8576b"
            ],
            [
             0.6666666666666666,
             "#ed7953"
            ],
            [
             0.7777777777777778,
             "#fb9f3a"
            ],
            [
             0.8888888888888888,
             "#fdca26"
            ],
            [
             1,
             "#f0f921"
            ]
           ],
           "sequentialminus": [
            [
             0,
             "#0d0887"
            ],
            [
             0.1111111111111111,
             "#46039f"
            ],
            [
             0.2222222222222222,
             "#7201a8"
            ],
            [
             0.3333333333333333,
             "#9c179e"
            ],
            [
             0.4444444444444444,
             "#bd3786"
            ],
            [
             0.5555555555555556,
             "#d8576b"
            ],
            [
             0.6666666666666666,
             "#ed7953"
            ],
            [
             0.7777777777777778,
             "#fb9f3a"
            ],
            [
             0.8888888888888888,
             "#fdca26"
            ],
            [
             1,
             "#f0f921"
            ]
           ]
          },
          "colorway": [
           "#636efa",
           "#EF553B",
           "#00cc96",
           "#ab63fa",
           "#FFA15A",
           "#19d3f3",
           "#FF6692",
           "#B6E880",
           "#FF97FF",
           "#FECB52"
          ],
          "font": {
           "color": "#2a3f5f"
          },
          "geo": {
           "bgcolor": "white",
           "lakecolor": "white",
           "landcolor": "#E5ECF6",
           "showlakes": true,
           "showland": true,
           "subunitcolor": "white"
          },
          "hoverlabel": {
           "align": "left"
          },
          "hovermode": "closest",
          "mapbox": {
           "style": "light"
          },
          "paper_bgcolor": "white",
          "plot_bgcolor": "#E5ECF6",
          "polar": {
           "angularaxis": {
            "gridcolor": "white",
            "linecolor": "white",
            "ticks": ""
           },
           "bgcolor": "#E5ECF6",
           "radialaxis": {
            "gridcolor": "white",
            "linecolor": "white",
            "ticks": ""
           }
          },
          "scene": {
           "xaxis": {
            "backgroundcolor": "#E5ECF6",
            "gridcolor": "white",
            "gridwidth": 2,
            "linecolor": "white",
            "showbackground": true,
            "ticks": "",
            "zerolinecolor": "white"
           },
           "yaxis": {
            "backgroundcolor": "#E5ECF6",
            "gridcolor": "white",
            "gridwidth": 2,
            "linecolor": "white",
            "showbackground": true,
            "ticks": "",
            "zerolinecolor": "white"
           },
           "zaxis": {
            "backgroundcolor": "#E5ECF6",
            "gridcolor": "white",
            "gridwidth": 2,
            "linecolor": "white",
            "showbackground": true,
            "ticks": "",
            "zerolinecolor": "white"
           }
          },
          "shapedefaults": {
           "line": {
            "color": "#2a3f5f"
           }
          },
          "ternary": {
           "aaxis": {
            "gridcolor": "white",
            "linecolor": "white",
            "ticks": ""
           },
           "baxis": {
            "gridcolor": "white",
            "linecolor": "white",
            "ticks": ""
           },
           "bgcolor": "#E5ECF6",
           "caxis": {
            "gridcolor": "white",
            "linecolor": "white",
            "ticks": ""
           }
          },
          "title": {
           "x": 0.05
          },
          "xaxis": {
           "automargin": true,
           "gridcolor": "white",
           "linecolor": "white",
           "ticks": "",
           "title": {
            "standoff": 15
           },
           "zerolinecolor": "white",
           "zerolinewidth": 2
          },
          "yaxis": {
           "automargin": true,
           "gridcolor": "white",
           "linecolor": "white",
           "ticks": "",
           "title": {
            "standoff": 15
           },
           "zerolinecolor": "white",
           "zerolinewidth": 2
          }
         }
        },
        "xaxis": {
         "anchor": "y",
         "domain": [
          0,
          1
         ],
         "title": {
          "text": "fraud_bool"
         }
        },
        "yaxis": {
         "anchor": "x",
         "domain": [
          0,
          1
         ],
         "title": {
          "text": "sum of value"
         }
        }
       }
      }
     },
     "metadata": {},
     "output_type": "display_data"
    }
   ],
   "source": [
    "fig = px.histogram(pd_plot_fraud_bool_pc, x=\"fraud_bool\", y=['percent'])\n",
    "fig.show()"
   ]
  },
  {
   "cell_type": "markdown",
   "metadata": {},
   "source": [
    "Selección de threshold por filas y columnas para eliminar valores missing"
   ]
  },
  {
   "cell_type": "code",
   "execution_count": 8,
   "metadata": {},
   "outputs": [
    {
     "name": "stdout",
     "output_type": "stream",
     "text": [
      "(32,) (1000000,)\n"
     ]
    }
   ],
   "source": [
    "pd_series_null_columns = pd_BAF.isnull().sum().sort_values(ascending=False)\n",
    "pd_series_null_rows = pd_BAF.isnull().sum(axis=1).sort_values(ascending=False)\n",
    "print(pd_series_null_columns.shape, pd_series_null_rows.shape)\n",
    "\n",
    "pd_null_columnas = pd.DataFrame(pd_series_null_columns, columns=['nulos_columnas'])     \n",
    "pd_null_filas = pd.DataFrame(pd_series_null_rows, columns=['nulos_filas'])  \n",
    "pd_null_filas['target'] = pd_BAF['fraud_bool'].copy()\n",
    "pd_null_columnas['porcentaje_columnas'] = pd_null_columnas['nulos_columnas']/pd_BAF.shape[0]\n",
    "pd_null_filas['porcentaje_filas']= pd_null_filas['nulos_filas']/pd_BAF.shape[1]"
   ]
  },
  {
   "cell_type": "code",
   "execution_count": 9,
   "metadata": {},
   "outputs": [
    {
     "data": {
      "text/plain": [
       "(1000000, 32)"
      ]
     },
     "execution_count": 9,
     "metadata": {},
     "output_type": "execute_result"
    }
   ],
   "source": [
    "pd_BAF.shape"
   ]
  },
  {
   "cell_type": "code",
   "execution_count": 10,
   "metadata": {},
   "outputs": [
    {
     "data": {
      "text/html": [
       "<div>\n",
       "<style scoped>\n",
       "    .dataframe tbody tr th:only-of-type {\n",
       "        vertical-align: middle;\n",
       "    }\n",
       "\n",
       "    .dataframe tbody tr th {\n",
       "        vertical-align: top;\n",
       "    }\n",
       "\n",
       "    .dataframe thead th {\n",
       "        text-align: right;\n",
       "    }\n",
       "</style>\n",
       "<table border=\"1\" class=\"dataframe\">\n",
       "  <thead>\n",
       "    <tr style=\"text-align: right;\">\n",
       "      <th></th>\n",
       "      <th>nulos_columnas</th>\n",
       "      <th>porcentaje_columnas</th>\n",
       "    </tr>\n",
       "  </thead>\n",
       "  <tbody>\n",
       "    <tr>\n",
       "      <th>fraud_bool</th>\n",
       "      <td>0</td>\n",
       "      <td>0.0</td>\n",
       "    </tr>\n",
       "    <tr>\n",
       "      <th>income</th>\n",
       "      <td>0</td>\n",
       "      <td>0.0</td>\n",
       "    </tr>\n",
       "    <tr>\n",
       "      <th>device_fraud_count</th>\n",
       "      <td>0</td>\n",
       "      <td>0.0</td>\n",
       "    </tr>\n",
       "    <tr>\n",
       "      <th>device_distinct_emails_8w</th>\n",
       "      <td>0</td>\n",
       "      <td>0.0</td>\n",
       "    </tr>\n",
       "    <tr>\n",
       "      <th>keep_alive_session</th>\n",
       "      <td>0</td>\n",
       "      <td>0.0</td>\n",
       "    </tr>\n",
       "    <tr>\n",
       "      <th>device_os</th>\n",
       "      <td>0</td>\n",
       "      <td>0.0</td>\n",
       "    </tr>\n",
       "    <tr>\n",
       "      <th>session_length_in_minutes</th>\n",
       "      <td>0</td>\n",
       "      <td>0.0</td>\n",
       "    </tr>\n",
       "    <tr>\n",
       "      <th>source</th>\n",
       "      <td>0</td>\n",
       "      <td>0.0</td>\n",
       "    </tr>\n",
       "    <tr>\n",
       "      <th>foreign_request</th>\n",
       "      <td>0</td>\n",
       "      <td>0.0</td>\n",
       "    </tr>\n",
       "    <tr>\n",
       "      <th>proposed_credit_limit</th>\n",
       "      <td>0</td>\n",
       "      <td>0.0</td>\n",
       "    </tr>\n",
       "    <tr>\n",
       "      <th>has_other_cards</th>\n",
       "      <td>0</td>\n",
       "      <td>0.0</td>\n",
       "    </tr>\n",
       "    <tr>\n",
       "      <th>bank_months_count</th>\n",
       "      <td>0</td>\n",
       "      <td>0.0</td>\n",
       "    </tr>\n",
       "    <tr>\n",
       "      <th>phone_mobile_valid</th>\n",
       "      <td>0</td>\n",
       "      <td>0.0</td>\n",
       "    </tr>\n",
       "    <tr>\n",
       "      <th>phone_home_valid</th>\n",
       "      <td>0</td>\n",
       "      <td>0.0</td>\n",
       "    </tr>\n",
       "    <tr>\n",
       "      <th>housing_status</th>\n",
       "      <td>0</td>\n",
       "      <td>0.0</td>\n",
       "    </tr>\n",
       "    <tr>\n",
       "      <th>email_is_free</th>\n",
       "      <td>0</td>\n",
       "      <td>0.0</td>\n",
       "    </tr>\n",
       "    <tr>\n",
       "      <th>credit_risk_score</th>\n",
       "      <td>0</td>\n",
       "      <td>0.0</td>\n",
       "    </tr>\n",
       "    <tr>\n",
       "      <th>employment_status</th>\n",
       "      <td>0</td>\n",
       "      <td>0.0</td>\n",
       "    </tr>\n",
       "    <tr>\n",
       "      <th>date_of_birth_distinct_emails_4w</th>\n",
       "      <td>0</td>\n",
       "      <td>0.0</td>\n",
       "    </tr>\n",
       "    <tr>\n",
       "      <th>bank_branch_count_8w</th>\n",
       "      <td>0</td>\n",
       "      <td>0.0</td>\n",
       "    </tr>\n",
       "    <tr>\n",
       "      <th>velocity_4w</th>\n",
       "      <td>0</td>\n",
       "      <td>0.0</td>\n",
       "    </tr>\n",
       "    <tr>\n",
       "      <th>velocity_24h</th>\n",
       "      <td>0</td>\n",
       "      <td>0.0</td>\n",
       "    </tr>\n",
       "    <tr>\n",
       "      <th>velocity_6h</th>\n",
       "      <td>0</td>\n",
       "      <td>0.0</td>\n",
       "    </tr>\n",
       "    <tr>\n",
       "      <th>zip_count_4w</th>\n",
       "      <td>0</td>\n",
       "      <td>0.0</td>\n",
       "    </tr>\n",
       "    <tr>\n",
       "      <th>payment_type</th>\n",
       "      <td>0</td>\n",
       "      <td>0.0</td>\n",
       "    </tr>\n",
       "    <tr>\n",
       "      <th>intended_balcon_amount</th>\n",
       "      <td>0</td>\n",
       "      <td>0.0</td>\n",
       "    </tr>\n",
       "    <tr>\n",
       "      <th>days_since_request</th>\n",
       "      <td>0</td>\n",
       "      <td>0.0</td>\n",
       "    </tr>\n",
       "    <tr>\n",
       "      <th>customer_age</th>\n",
       "      <td>0</td>\n",
       "      <td>0.0</td>\n",
       "    </tr>\n",
       "    <tr>\n",
       "      <th>current_address_months_count</th>\n",
       "      <td>0</td>\n",
       "      <td>0.0</td>\n",
       "    </tr>\n",
       "    <tr>\n",
       "      <th>prev_address_months_count</th>\n",
       "      <td>0</td>\n",
       "      <td>0.0</td>\n",
       "    </tr>\n",
       "    <tr>\n",
       "      <th>name_email_similarity</th>\n",
       "      <td>0</td>\n",
       "      <td>0.0</td>\n",
       "    </tr>\n",
       "    <tr>\n",
       "      <th>month</th>\n",
       "      <td>0</td>\n",
       "      <td>0.0</td>\n",
       "    </tr>\n",
       "  </tbody>\n",
       "</table>\n",
       "</div>"
      ],
      "text/plain": [
       "                                  nulos_columnas  porcentaje_columnas\n",
       "fraud_bool                                     0                  0.0\n",
       "income                                         0                  0.0\n",
       "device_fraud_count                             0                  0.0\n",
       "device_distinct_emails_8w                      0                  0.0\n",
       "keep_alive_session                             0                  0.0\n",
       "device_os                                      0                  0.0\n",
       "session_length_in_minutes                      0                  0.0\n",
       "source                                         0                  0.0\n",
       "foreign_request                                0                  0.0\n",
       "proposed_credit_limit                          0                  0.0\n",
       "has_other_cards                                0                  0.0\n",
       "bank_months_count                              0                  0.0\n",
       "phone_mobile_valid                             0                  0.0\n",
       "phone_home_valid                               0                  0.0\n",
       "housing_status                                 0                  0.0\n",
       "email_is_free                                  0                  0.0\n",
       "credit_risk_score                              0                  0.0\n",
       "employment_status                              0                  0.0\n",
       "date_of_birth_distinct_emails_4w               0                  0.0\n",
       "bank_branch_count_8w                           0                  0.0\n",
       "velocity_4w                                    0                  0.0\n",
       "velocity_24h                                   0                  0.0\n",
       "velocity_6h                                    0                  0.0\n",
       "zip_count_4w                                   0                  0.0\n",
       "payment_type                                   0                  0.0\n",
       "intended_balcon_amount                         0                  0.0\n",
       "days_since_request                             0                  0.0\n",
       "customer_age                                   0                  0.0\n",
       "current_address_months_count                   0                  0.0\n",
       "prev_address_months_count                      0                  0.0\n",
       "name_email_similarity                          0                  0.0\n",
       "month                                          0                  0.0"
      ]
     },
     "execution_count": 10,
     "metadata": {},
     "output_type": "execute_result"
    }
   ],
   "source": [
    "pd_null_columnas"
   ]
  },
  {
   "cell_type": "code",
   "execution_count": 11,
   "metadata": {},
   "outputs": [
    {
     "data": {
      "text/plain": [
       "(1000000, 32)"
      ]
     },
     "execution_count": 11,
     "metadata": {},
     "output_type": "execute_result"
    }
   ],
   "source": [
    "threshold=0.9\n",
    "list_vars_not_null = list(pd_null_columnas[pd_null_columnas['porcentaje_columnas']<threshold].index)\n",
    "pd_BAF_filter_null = pd_BAF.loc[:, list_vars_not_null]\n",
    "pd_BAF_filter_null.shape"
   ]
  },
  {
   "cell_type": "code",
   "execution_count": 12,
   "metadata": {},
   "outputs": [
    {
     "data": {
      "text/html": [
       "<div>\n",
       "<style scoped>\n",
       "    .dataframe tbody tr th:only-of-type {\n",
       "        vertical-align: middle;\n",
       "    }\n",
       "\n",
       "    .dataframe tbody tr th {\n",
       "        vertical-align: top;\n",
       "    }\n",
       "\n",
       "    .dataframe thead th {\n",
       "        text-align: right;\n",
       "    }\n",
       "</style>\n",
       "<table border=\"1\" class=\"dataframe\">\n",
       "  <thead>\n",
       "    <tr style=\"text-align: right;\">\n",
       "      <th></th>\n",
       "      <th>nulos_filas</th>\n",
       "      <th>target</th>\n",
       "      <th>porcentaje_filas</th>\n",
       "    </tr>\n",
       "  </thead>\n",
       "  <tbody>\n",
       "    <tr>\n",
       "      <th>0</th>\n",
       "      <td>0</td>\n",
       "      <td>1</td>\n",
       "      <td>0.0</td>\n",
       "    </tr>\n",
       "    <tr>\n",
       "      <th>666657</th>\n",
       "      <td>0</td>\n",
       "      <td>0</td>\n",
       "      <td>0.0</td>\n",
       "    </tr>\n",
       "    <tr>\n",
       "      <th>666659</th>\n",
       "      <td>0</td>\n",
       "      <td>0</td>\n",
       "      <td>0.0</td>\n",
       "    </tr>\n",
       "    <tr>\n",
       "      <th>666660</th>\n",
       "      <td>0</td>\n",
       "      <td>0</td>\n",
       "      <td>0.0</td>\n",
       "    </tr>\n",
       "    <tr>\n",
       "      <th>666661</th>\n",
       "      <td>0</td>\n",
       "      <td>0</td>\n",
       "      <td>0.0</td>\n",
       "    </tr>\n",
       "    <tr>\n",
       "      <th>...</th>\n",
       "      <td>...</td>\n",
       "      <td>...</td>\n",
       "      <td>...</td>\n",
       "    </tr>\n",
       "    <tr>\n",
       "      <th>333337</th>\n",
       "      <td>0</td>\n",
       "      <td>0</td>\n",
       "      <td>0.0</td>\n",
       "    </tr>\n",
       "    <tr>\n",
       "      <th>333338</th>\n",
       "      <td>0</td>\n",
       "      <td>0</td>\n",
       "      <td>0.0</td>\n",
       "    </tr>\n",
       "    <tr>\n",
       "      <th>333339</th>\n",
       "      <td>0</td>\n",
       "      <td>0</td>\n",
       "      <td>0.0</td>\n",
       "    </tr>\n",
       "    <tr>\n",
       "      <th>333340</th>\n",
       "      <td>0</td>\n",
       "      <td>0</td>\n",
       "      <td>0.0</td>\n",
       "    </tr>\n",
       "    <tr>\n",
       "      <th>999999</th>\n",
       "      <td>0</td>\n",
       "      <td>0</td>\n",
       "      <td>0.0</td>\n",
       "    </tr>\n",
       "  </tbody>\n",
       "</table>\n",
       "<p>1000000 rows × 3 columns</p>\n",
       "</div>"
      ],
      "text/plain": [
       "        nulos_filas  target  porcentaje_filas\n",
       "0                 0       1               0.0\n",
       "666657            0       0               0.0\n",
       "666659            0       0               0.0\n",
       "666660            0       0               0.0\n",
       "666661            0       0               0.0\n",
       "...             ...     ...               ...\n",
       "333337            0       0               0.0\n",
       "333338            0       0               0.0\n",
       "333339            0       0               0.0\n",
       "333340            0       0               0.0\n",
       "999999            0       0               0.0\n",
       "\n",
       "[1000000 rows x 3 columns]"
      ]
     },
     "execution_count": 12,
     "metadata": {},
     "output_type": "execute_result"
    }
   ],
   "source": [
    "pd_null_filas"
   ]
  },
  {
   "cell_type": "markdown",
   "metadata": {},
   "source": [
    "## Tratamiento valores missing"
   ]
  },
  {
   "cell_type": "code",
   "execution_count": 13,
   "metadata": {},
   "outputs": [
    {
     "data": {
      "text/html": [
       "<div>\n",
       "<style scoped>\n",
       "    .dataframe tbody tr th:only-of-type {\n",
       "        vertical-align: middle;\n",
       "    }\n",
       "\n",
       "    .dataframe tbody tr th {\n",
       "        vertical-align: top;\n",
       "    }\n",
       "\n",
       "    .dataframe thead th {\n",
       "        text-align: right;\n",
       "    }\n",
       "</style>\n",
       "<table border=\"1\" class=\"dataframe\">\n",
       "  <thead>\n",
       "    <tr style=\"text-align: right;\">\n",
       "      <th></th>\n",
       "      <th>Variable</th>\n",
       "      <th>Missing</th>\n",
       "      <th>Porcentaje Missing</th>\n",
       "    </tr>\n",
       "  </thead>\n",
       "  <tbody>\n",
       "    <tr>\n",
       "      <th>0</th>\n",
       "      <td>prev_address_months_count</td>\n",
       "      <td>712920</td>\n",
       "      <td>71.2920</td>\n",
       "    </tr>\n",
       "    <tr>\n",
       "      <th>1</th>\n",
       "      <td>current_address_months_count</td>\n",
       "      <td>4254</td>\n",
       "      <td>0.4254</td>\n",
       "    </tr>\n",
       "    <tr>\n",
       "      <th>2</th>\n",
       "      <td>intended_balcon_amount</td>\n",
       "      <td>742523</td>\n",
       "      <td>74.2523</td>\n",
       "    </tr>\n",
       "    <tr>\n",
       "      <th>3</th>\n",
       "      <td>bank_months_count</td>\n",
       "      <td>253635</td>\n",
       "      <td>25.3635</td>\n",
       "    </tr>\n",
       "    <tr>\n",
       "      <th>4</th>\n",
       "      <td>session_length_in_minutes</td>\n",
       "      <td>2015</td>\n",
       "      <td>0.2015</td>\n",
       "    </tr>\n",
       "    <tr>\n",
       "      <th>5</th>\n",
       "      <td>device_distinct_emails_8w</td>\n",
       "      <td>359</td>\n",
       "      <td>0.0359</td>\n",
       "    </tr>\n",
       "  </tbody>\n",
       "</table>\n",
       "</div>"
      ],
      "text/plain": [
       "                       Variable  Missing  Porcentaje Missing\n",
       "0     prev_address_months_count   712920             71.2920\n",
       "1  current_address_months_count     4254              0.4254\n",
       "2        intended_balcon_amount   742523             74.2523\n",
       "3             bank_months_count   253635             25.3635\n",
       "4     session_length_in_minutes     2015              0.2015\n",
       "5     device_distinct_emails_8w      359              0.0359"
      ]
     },
     "execution_count": 13,
     "metadata": {},
     "output_type": "execute_result"
    }
   ],
   "source": [
    "variables = ['prev_address_months_count', 'current_address_months_count','intended_balcon_amount', 'bank_months_count', 'session_length_in_minutes', 'device_distinct_emails_8w']\n",
    "missing_count = []\n",
    "missing_percentage = []\n",
    "\n",
    "for variable in variables:\n",
    "    if variable == 'intended_balcon_amount':\n",
    "        missing_count.append(pd_BAF[pd_BAF[variable] < 0].shape[0])\n",
    "    else:\n",
    "        missing_count.append(pd_BAF[pd_BAF[variable] == -1].shape[0])\n",
    "\n",
    "    missing_percentage.append((missing_count[-1] / len(pd_BAF)) * 100)\n",
    "\n",
    "missing_data_df = pd.DataFrame({\n",
    "    'Variable': variables,\n",
    "    'Missing': missing_count,\n",
    "    'Porcentaje Missing': missing_percentage\n",
    "})\n",
    "\n",
    "missing_data_df"
   ]
  },
  {
   "cell_type": "markdown",
   "metadata": {},
   "source": [
    "Se puede notar la presencia de valores nulos en estas cinco variables; sin embargo, dado que se han gestionado previamente, no impactan en el análisis de nuestro conjunto de datos. \n",
    "Las variables 'prev_address_months_count' y 'intended_balcon_amount' son las que contienen la mayor cantidad de estos valores. Dada la naturaleza de estas no se requiere ninguna operacion"
   ]
  },
  {
   "cell_type": "markdown",
   "metadata": {},
   "source": [
    "## Tipos: Variables categoricas y numericas"
   ]
  },
  {
   "cell_type": "code",
   "execution_count": 14,
   "metadata": {},
   "outputs": [
    {
     "data": {
      "text/html": [
       "<div>\n",
       "<style scoped>\n",
       "    .dataframe tbody tr th:only-of-type {\n",
       "        vertical-align: middle;\n",
       "    }\n",
       "\n",
       "    .dataframe tbody tr th {\n",
       "        vertical-align: top;\n",
       "    }\n",
       "\n",
       "    .dataframe thead th {\n",
       "        text-align: right;\n",
       "    }\n",
       "</style>\n",
       "<table border=\"1\" class=\"dataframe\">\n",
       "  <thead>\n",
       "    <tr style=\"text-align: right;\">\n",
       "      <th></th>\n",
       "      <th>fraud_bool</th>\n",
       "      <th>device_fraud_count</th>\n",
       "      <th>device_distinct_emails_8w</th>\n",
       "      <th>keep_alive_session</th>\n",
       "      <th>device_os</th>\n",
       "      <th>source</th>\n",
       "      <th>foreign_request</th>\n",
       "      <th>has_other_cards</th>\n",
       "      <th>bank_months_count</th>\n",
       "      <th>phone_mobile_valid</th>\n",
       "      <th>phone_home_valid</th>\n",
       "      <th>housing_status</th>\n",
       "      <th>email_is_free</th>\n",
       "      <th>employment_status</th>\n",
       "      <th>date_of_birth_distinct_emails_4w</th>\n",
       "      <th>payment_type</th>\n",
       "      <th>customer_age</th>\n",
       "      <th>month</th>\n",
       "    </tr>\n",
       "  </thead>\n",
       "  <tbody>\n",
       "    <tr>\n",
       "      <th>0</th>\n",
       "      <td>1</td>\n",
       "      <td>0</td>\n",
       "      <td>1</td>\n",
       "      <td>0</td>\n",
       "      <td>windows</td>\n",
       "      <td>INTERNET</td>\n",
       "      <td>0</td>\n",
       "      <td>0</td>\n",
       "      <td>24</td>\n",
       "      <td>0</td>\n",
       "      <td>1</td>\n",
       "      <td>BA</td>\n",
       "      <td>0</td>\n",
       "      <td>CA</td>\n",
       "      <td>6</td>\n",
       "      <td>AA</td>\n",
       "      <td>50</td>\n",
       "      <td>7</td>\n",
       "    </tr>\n",
       "    <tr>\n",
       "      <th>1</th>\n",
       "      <td>1</td>\n",
       "      <td>0</td>\n",
       "      <td>1</td>\n",
       "      <td>0</td>\n",
       "      <td>windows</td>\n",
       "      <td>INTERNET</td>\n",
       "      <td>0</td>\n",
       "      <td>0</td>\n",
       "      <td>15</td>\n",
       "      <td>0</td>\n",
       "      <td>0</td>\n",
       "      <td>BA</td>\n",
       "      <td>1</td>\n",
       "      <td>CA</td>\n",
       "      <td>3</td>\n",
       "      <td>AB</td>\n",
       "      <td>50</td>\n",
       "      <td>7</td>\n",
       "    </tr>\n",
       "    <tr>\n",
       "      <th>2</th>\n",
       "      <td>1</td>\n",
       "      <td>0</td>\n",
       "      <td>1</td>\n",
       "      <td>0</td>\n",
       "      <td>other</td>\n",
       "      <td>INTERNET</td>\n",
       "      <td>0</td>\n",
       "      <td>0</td>\n",
       "      <td>-1</td>\n",
       "      <td>1</td>\n",
       "      <td>0</td>\n",
       "      <td>BA</td>\n",
       "      <td>1</td>\n",
       "      <td>CB</td>\n",
       "      <td>14</td>\n",
       "      <td>AC</td>\n",
       "      <td>40</td>\n",
       "      <td>7</td>\n",
       "    </tr>\n",
       "    <tr>\n",
       "      <th>3</th>\n",
       "      <td>1</td>\n",
       "      <td>0</td>\n",
       "      <td>1</td>\n",
       "      <td>0</td>\n",
       "      <td>linux</td>\n",
       "      <td>INTERNET</td>\n",
       "      <td>0</td>\n",
       "      <td>1</td>\n",
       "      <td>31</td>\n",
       "      <td>1</td>\n",
       "      <td>0</td>\n",
       "      <td>BA</td>\n",
       "      <td>1</td>\n",
       "      <td>CA</td>\n",
       "      <td>6</td>\n",
       "      <td>AB</td>\n",
       "      <td>50</td>\n",
       "      <td>7</td>\n",
       "    </tr>\n",
       "    <tr>\n",
       "      <th>4</th>\n",
       "      <td>1</td>\n",
       "      <td>0</td>\n",
       "      <td>1</td>\n",
       "      <td>1</td>\n",
       "      <td>macintosh</td>\n",
       "      <td>INTERNET</td>\n",
       "      <td>0</td>\n",
       "      <td>0</td>\n",
       "      <td>31</td>\n",
       "      <td>0</td>\n",
       "      <td>1</td>\n",
       "      <td>BA</td>\n",
       "      <td>1</td>\n",
       "      <td>CA</td>\n",
       "      <td>2</td>\n",
       "      <td>AB</td>\n",
       "      <td>50</td>\n",
       "      <td>7</td>\n",
       "    </tr>\n",
       "  </tbody>\n",
       "</table>\n",
       "</div>"
      ],
      "text/plain": [
       "  fraud_bool device_fraud_count device_distinct_emails_8w keep_alive_session  \\\n",
       "0          1                  0                         1                  0   \n",
       "1          1                  0                         1                  0   \n",
       "2          1                  0                         1                  0   \n",
       "3          1                  0                         1                  0   \n",
       "4          1                  0                         1                  1   \n",
       "\n",
       "   device_os    source foreign_request has_other_cards bank_months_count  \\\n",
       "0    windows  INTERNET               0               0                24   \n",
       "1    windows  INTERNET               0               0                15   \n",
       "2      other  INTERNET               0               0                -1   \n",
       "3      linux  INTERNET               0               1                31   \n",
       "4  macintosh  INTERNET               0               0                31   \n",
       "\n",
       "  phone_mobile_valid phone_home_valid housing_status email_is_free  \\\n",
       "0                  0                1             BA             0   \n",
       "1                  0                0             BA             1   \n",
       "2                  1                0             BA             1   \n",
       "3                  1                0             BA             1   \n",
       "4                  0                1             BA             1   \n",
       "\n",
       "  employment_status date_of_birth_distinct_emails_4w payment_type  \\\n",
       "0                CA                                6           AA   \n",
       "1                CA                                3           AB   \n",
       "2                CB                               14           AC   \n",
       "3                CA                                6           AB   \n",
       "4                CA                                2           AB   \n",
       "\n",
       "  customer_age month  \n",
       "0           50     7  \n",
       "1           50     7  \n",
       "2           40     7  \n",
       "3           50     7  \n",
       "4           50     7  "
      ]
     },
     "execution_count": 14,
     "metadata": {},
     "output_type": "execute_result"
    }
   ],
   "source": [
    "list_cat_vars, list_num_vars = dame_variables_categoricas(dataset=pd_BAF_filter_null)\n",
    "pd_BAF_filter_null[list_cat_vars] = pd_BAF_filter_null[list_cat_vars].astype(\"category\")\n",
    "pd_BAF_filter_null[list_cat_vars].head()"
   ]
  },
  {
   "cell_type": "code",
   "execution_count": 15,
   "metadata": {},
   "outputs": [
    {
     "data": {
      "text/plain": [
       "fraud_bool                          category\n",
       "device_fraud_count                  category\n",
       "device_distinct_emails_8w           category\n",
       "keep_alive_session                  category\n",
       "device_os                           category\n",
       "source                              category\n",
       "foreign_request                     category\n",
       "has_other_cards                     category\n",
       "bank_months_count                   category\n",
       "phone_mobile_valid                  category\n",
       "phone_home_valid                    category\n",
       "housing_status                      category\n",
       "email_is_free                       category\n",
       "employment_status                   category\n",
       "date_of_birth_distinct_emails_4w    category\n",
       "payment_type                        category\n",
       "customer_age                        category\n",
       "month                               category\n",
       "dtype: object"
      ]
     },
     "execution_count": 15,
     "metadata": {},
     "output_type": "execute_result"
    }
   ],
   "source": [
    "pd_BAF_filter_null[list_cat_vars].dtypes"
   ]
  },
  {
   "cell_type": "code",
   "execution_count": 16,
   "metadata": {},
   "outputs": [
    {
     "data": {
      "text/html": [
       "<div>\n",
       "<style scoped>\n",
       "    .dataframe tbody tr th:only-of-type {\n",
       "        vertical-align: middle;\n",
       "    }\n",
       "\n",
       "    .dataframe tbody tr th {\n",
       "        vertical-align: top;\n",
       "    }\n",
       "\n",
       "    .dataframe thead th {\n",
       "        text-align: right;\n",
       "    }\n",
       "</style>\n",
       "<table border=\"1\" class=\"dataframe\">\n",
       "  <thead>\n",
       "    <tr style=\"text-align: right;\">\n",
       "      <th></th>\n",
       "      <th>fraud_bool</th>\n",
       "      <th>device_fraud_count</th>\n",
       "      <th>device_distinct_emails_8w</th>\n",
       "      <th>keep_alive_session</th>\n",
       "      <th>device_os</th>\n",
       "      <th>source</th>\n",
       "      <th>foreign_request</th>\n",
       "      <th>has_other_cards</th>\n",
       "      <th>bank_months_count</th>\n",
       "      <th>phone_mobile_valid</th>\n",
       "      <th>phone_home_valid</th>\n",
       "      <th>housing_status</th>\n",
       "      <th>email_is_free</th>\n",
       "      <th>employment_status</th>\n",
       "      <th>date_of_birth_distinct_emails_4w</th>\n",
       "      <th>payment_type</th>\n",
       "      <th>customer_age</th>\n",
       "      <th>month</th>\n",
       "    </tr>\n",
       "  </thead>\n",
       "  <tbody>\n",
       "    <tr>\n",
       "      <th>0</th>\n",
       "      <td>1</td>\n",
       "      <td>0</td>\n",
       "      <td>1</td>\n",
       "      <td>0</td>\n",
       "      <td>windows</td>\n",
       "      <td>INTERNET</td>\n",
       "      <td>0</td>\n",
       "      <td>0</td>\n",
       "      <td>24</td>\n",
       "      <td>0</td>\n",
       "      <td>1</td>\n",
       "      <td>BA</td>\n",
       "      <td>0</td>\n",
       "      <td>CA</td>\n",
       "      <td>6</td>\n",
       "      <td>AA</td>\n",
       "      <td>50</td>\n",
       "      <td>7</td>\n",
       "    </tr>\n",
       "    <tr>\n",
       "      <th>1</th>\n",
       "      <td>1</td>\n",
       "      <td>0</td>\n",
       "      <td>1</td>\n",
       "      <td>0</td>\n",
       "      <td>windows</td>\n",
       "      <td>INTERNET</td>\n",
       "      <td>0</td>\n",
       "      <td>0</td>\n",
       "      <td>15</td>\n",
       "      <td>0</td>\n",
       "      <td>0</td>\n",
       "      <td>BA</td>\n",
       "      <td>1</td>\n",
       "      <td>CA</td>\n",
       "      <td>3</td>\n",
       "      <td>AB</td>\n",
       "      <td>50</td>\n",
       "      <td>7</td>\n",
       "    </tr>\n",
       "    <tr>\n",
       "      <th>2</th>\n",
       "      <td>1</td>\n",
       "      <td>0</td>\n",
       "      <td>1</td>\n",
       "      <td>0</td>\n",
       "      <td>other</td>\n",
       "      <td>INTERNET</td>\n",
       "      <td>0</td>\n",
       "      <td>0</td>\n",
       "      <td>-1</td>\n",
       "      <td>1</td>\n",
       "      <td>0</td>\n",
       "      <td>BA</td>\n",
       "      <td>1</td>\n",
       "      <td>CB</td>\n",
       "      <td>14</td>\n",
       "      <td>AC</td>\n",
       "      <td>40</td>\n",
       "      <td>7</td>\n",
       "    </tr>\n",
       "    <tr>\n",
       "      <th>3</th>\n",
       "      <td>1</td>\n",
       "      <td>0</td>\n",
       "      <td>1</td>\n",
       "      <td>0</td>\n",
       "      <td>linux</td>\n",
       "      <td>INTERNET</td>\n",
       "      <td>0</td>\n",
       "      <td>1</td>\n",
       "      <td>31</td>\n",
       "      <td>1</td>\n",
       "      <td>0</td>\n",
       "      <td>BA</td>\n",
       "      <td>1</td>\n",
       "      <td>CA</td>\n",
       "      <td>6</td>\n",
       "      <td>AB</td>\n",
       "      <td>50</td>\n",
       "      <td>7</td>\n",
       "    </tr>\n",
       "    <tr>\n",
       "      <th>4</th>\n",
       "      <td>1</td>\n",
       "      <td>0</td>\n",
       "      <td>1</td>\n",
       "      <td>1</td>\n",
       "      <td>macintosh</td>\n",
       "      <td>INTERNET</td>\n",
       "      <td>0</td>\n",
       "      <td>0</td>\n",
       "      <td>31</td>\n",
       "      <td>0</td>\n",
       "      <td>1</td>\n",
       "      <td>BA</td>\n",
       "      <td>1</td>\n",
       "      <td>CA</td>\n",
       "      <td>2</td>\n",
       "      <td>AB</td>\n",
       "      <td>50</td>\n",
       "      <td>7</td>\n",
       "    </tr>\n",
       "  </tbody>\n",
       "</table>\n",
       "</div>"
      ],
      "text/plain": [
       "  fraud_bool device_fraud_count device_distinct_emails_8w keep_alive_session  \\\n",
       "0          1                  0                         1                  0   \n",
       "1          1                  0                         1                  0   \n",
       "2          1                  0                         1                  0   \n",
       "3          1                  0                         1                  0   \n",
       "4          1                  0                         1                  1   \n",
       "\n",
       "   device_os    source foreign_request has_other_cards bank_months_count  \\\n",
       "0    windows  INTERNET               0               0                24   \n",
       "1    windows  INTERNET               0               0                15   \n",
       "2      other  INTERNET               0               0                -1   \n",
       "3      linux  INTERNET               0               1                31   \n",
       "4  macintosh  INTERNET               0               0                31   \n",
       "\n",
       "  phone_mobile_valid phone_home_valid housing_status email_is_free  \\\n",
       "0                  0                1             BA             0   \n",
       "1                  0                0             BA             1   \n",
       "2                  1                0             BA             1   \n",
       "3                  1                0             BA             1   \n",
       "4                  0                1             BA             1   \n",
       "\n",
       "  employment_status date_of_birth_distinct_emails_4w payment_type  \\\n",
       "0                CA                                6           AA   \n",
       "1                CA                                3           AB   \n",
       "2                CB                               14           AC   \n",
       "3                CA                                6           AB   \n",
       "4                CA                                2           AB   \n",
       "\n",
       "  customer_age month  \n",
       "0           50     7  \n",
       "1           50     7  \n",
       "2           40     7  \n",
       "3           50     7  \n",
       "4           50     7  "
      ]
     },
     "execution_count": 16,
     "metadata": {},
     "output_type": "execute_result"
    }
   ],
   "source": [
    "pd_BAF_filter_null[list_cat_vars].head(5)"
   ]
  },
  {
   "cell_type": "code",
   "execution_count": 17,
   "metadata": {},
   "outputs": [
    {
     "name": "stdout",
     "output_type": "stream",
     "text": [
      "9\n"
     ]
    },
    {
     "data": {
      "text/plain": [
       "customer_age\n",
       "30    0.311433\n",
       "20    0.245855\n",
       "40    0.238712\n",
       "50    0.140353\n",
       "60    0.034770\n",
       "10    0.020987\n",
       "70    0.006517\n",
       "80    0.001297\n",
       "90    0.000076\n",
       "Name: proportion, dtype: float64"
      ]
     },
     "execution_count": 17,
     "metadata": {},
     "output_type": "execute_result"
    }
   ],
   "source": [
    "print(pd_BAF_filter_null[\"customer_age\"].value_counts().count())\n",
    "pd_BAF_filter_null[\"customer_age\"]\\\n",
    "    .apply(lambda x: str(x).lower().strip()).value_counts(normalize=True)#.count()"
   ]
  },
  {
   "cell_type": "code",
   "execution_count": 18,
   "metadata": {},
   "outputs": [
    {
     "data": {
      "text/plain": [
       "(1000000, 32)"
      ]
     },
     "execution_count": 18,
     "metadata": {},
     "output_type": "execute_result"
    }
   ],
   "source": [
    "pd_BAF_filter_null.shape"
   ]
  },
  {
   "cell_type": "markdown",
   "metadata": {},
   "source": [
    "## Guardado de la tabla"
   ]
  },
  {
   "cell_type": "code",
   "execution_count": 20,
   "metadata": {},
   "outputs": [],
   "source": [
    "pd_BAF_filter_null.to_csv(path_folder + \"pd_data_initial_preprocessing.csv\")"
   ]
  }
 ],
 "metadata": {
  "kernelspec": {
   "display_name": "Python 3",
   "language": "python",
   "name": "python3"
  },
  "language_info": {
   "codemirror_mode": {
    "name": "ipython",
    "version": 3
   },
   "file_extension": ".py",
   "mimetype": "text/x-python",
   "name": "python",
   "nbconvert_exporter": "python",
   "pygments_lexer": "ipython3",
   "version": "3.10.4"
  }
 },
 "nbformat": 4,
 "nbformat_minor": 2
}
